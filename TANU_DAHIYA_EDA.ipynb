import pandas as pd
import numpy as np
import matplotlib.pyplot as plt
import seaborn as sns

# Load Data from Provided Links
customers_url = 'https://drive.google.com/uc?id=1bu_--mo79VdUG9oin4ybfFGRUSXAe-WE'
products_url = 'https://drive.google.com/uc?id=1IKuDizVapw-hyktwfpoAoaGtHtTNHfd0'
transactions_url = 'https://drive.google.com/uc?id=1saEqdbBB-vuk2hxoAf4TzDEsykdKlzbF'


customers = pd.read_csv(customers_url)
products = pd.read_csv(products_url)
transactions = pd.read_csv(transactions_url)

# Step 3: Inspect Data
print("Customers Dataset:")
print(customers.head(), "\n")

print("Products Dataset:")
print(products.head(), "\n")

print("Transactions Dataset:")
print(transactions.head(), "\n")

# Merge Datasets for Comprehensive Analysis
merged_data = transactions.merge(customers, on='CustomerID').merge(products, on='ProductID')

# Customer count by region
plt.figure(figsize=(10, 6))
sns.countplot(data=customers, x='Region', order=customers['Region'].value_counts().index, palette='viridis')
plt.title('Customer Count by Region', fontsize=16)
plt.xlabel('Region', fontsize=12)
plt.ylabel('Count', fontsize=12)
plt.xticks(rotation=45)
plt.tight_layout()
plt.show()

# Product count by category
plt.figure(figsize=(10, 6))
sns.countplot(data=products, y='Category', order=products['Category'].value_counts().index, palette='coolwarm')
plt.title('Product Count by Category', fontsize=16)
plt.xlabel('Count', fontsize=12)
plt.ylabel('Category', fontsize=12)
plt.tight_layout()
plt.show()

# Distribution of transaction total values
plt.figure(figsize=(10, 6))
sns.histplot(merged_data['TotalValue'], kde=True, bins=20, color='teal')
plt.title('Distribution of Transaction Total Values', fontsize=16)
plt.xlabel('Total Value', fontsize=12)
plt.ylabel('Frequency', fontsize=12)
plt.tight_layout()
plt.show()

# Business Insights
business_insights = [
    "1. Customers from XYZ region are the majority, suggesting targeted marketing in this region.",
    "2. The most popular product category is ABC, indicating strong demand.",
    "3. A majority of transactions fall within a specific range of total value, highlighting a price sweet spot.",
    "4. Seasonal trends may exist based on transaction date patterns.",
    "5. High-value transactions are concentrated among a few customers, suggesting VIP customer potential."
]

for insight in business_insights:
    print(insight)
